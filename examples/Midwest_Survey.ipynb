{
 "cells": [
  {
   "cell_type": "code",
   "execution_count": 1,
   "metadata": {},
   "outputs": [],
   "source": [
    "from pyspark.sql.functions import col, when"
   ]
  },
  {
   "cell_type": "code",
   "execution_count": 2,
   "metadata": {},
   "outputs": [],
   "source": [
    "data = (spark\n",
    "        .read\n",
    "        .option(\"header\", \"true\")\n",
    "        .csv(\"../data/FiveThirtyEight_Midwest_Survey.csv\"))\n",
    "data = data.where(col('Location (Census Region)').isNotNull())"
   ]
  },
  {
   "cell_type": "code",
   "execution_count": 3,
   "metadata": {},
   "outputs": [],
   "source": [
    "# Encoding nulls\n",
    "columns_with_null = [\n",
    "    'Location (Census Region)',\n",
    "    'Gender', 'Age', \n",
    "    'Household Income', 'Education']\n",
    "for column in columns_with_null:\n",
    "    data = data.withColumn(column, when(col(column).isNull(), \"__null\")\n",
    "                           .otherwise(col(column)))"
   ]
  },
  {
   "cell_type": "code",
   "execution_count": 4,
   "metadata": {},
   "outputs": [
    {
     "name": "stdout",
     "output_type": "stream",
     "text": [
      "root\n",
      " |-- RespondentID: string (nullable = true)\n",
      " |-- In your own words, what would you call the part of the country you live in now?: string (nullable = true)\n",
      " |-- Personally identification as a Midwesterner?: string (nullable = true)\n",
      " |-- Illinois in MW?: string (nullable = true)\n",
      " |-- Indiana in MW?: string (nullable = true)\n",
      " |-- Iowa in MW?: string (nullable = true)\n",
      " |-- Kansas in MW?: string (nullable = true)\n",
      " |-- Michigan in MW?: string (nullable = true)\n",
      " |-- Minnesota in MW?: string (nullable = true)\n",
      " |-- Missouri in MW?: string (nullable = true)\n",
      " |-- Nebraska in MW?: string (nullable = true)\n",
      " |-- North Dakota in MW?: string (nullable = true)\n",
      " |-- Ohio in MW?: string (nullable = true)\n",
      " |-- South Dakota in MW?: string (nullable = true)\n",
      " |-- Wisconsin in MW?: string (nullable = true)\n",
      " |-- Arkansas in MW?: string (nullable = true)\n",
      " |-- Colorado in MW?: string (nullable = true)\n",
      " |-- Kentucky in MW?: string (nullable = true)\n",
      " |-- Oklahoma in MW?: string (nullable = true)\n",
      " |-- Pennsylvania in MW?: string (nullable = true)\n",
      " |-- West Virginia in MW?: string (nullable = true)\n",
      " |-- Montana in MW?: string (nullable = true)\n",
      " |-- Wyoming in MW?: string (nullable = true)\n",
      " |-- ZIP Code: string (nullable = true)\n",
      " |-- Gender: string (nullable = true)\n",
      " |-- Age: string (nullable = true)\n",
      " |-- Household Income: string (nullable = true)\n",
      " |-- Education: string (nullable = true)\n",
      " |-- Location (Census Region): string (nullable = true)\n",
      "\n"
     ]
    }
   ],
   "source": [
    "data.printSchema()"
   ]
  },
  {
   "cell_type": "markdown",
   "metadata": {},
   "source": [
    "## Splitting data into train and test "
   ]
  },
  {
   "cell_type": "code",
   "execution_count": 5,
   "metadata": {},
   "outputs": [],
   "source": [
    "data_train, data_test = data.randomSplit([0.6, 0.4], seed=5)"
   ]
  },
  {
   "cell_type": "markdown",
   "metadata": {},
   "source": [
    "## Separating clean, and dirty columns as well a a column we will try to predict"
   ]
  },
  {
   "cell_type": "code",
   "execution_count": 6,
   "metadata": {},
   "outputs": [],
   "source": [
    "target_column = 'Location (Census Region)'\n",
    "dirty_column = 'In your own words, what would you call the part of the country you live in now?'\n",
    "clean_columns = [\n",
    "    'Personally identification as a Midwesterner?',\n",
    "    'Illinois in MW?',\n",
    "    'Indiana in MW?',\n",
    "    'Kansas in MW?',\n",
    "    'Iowa in MW?',\n",
    "    'Michigan in MW?',\n",
    "    'Minnesota in MW?',\n",
    "    'Missouri in MW?',\n",
    "    'Nebraska in MW?',\n",
    "    'North Dakota in MW?',\n",
    "    'Ohio in MW?',\n",
    "    'South Dakota in MW?',\n",
    "    'Wisconsin in MW?',\n",
    "    'Arkansas in MW?',\n",
    "    'Colorado in MW?',\n",
    "    'Kentucky in MW?',\n",
    "    'Oklahoma in MW?',\n",
    "    'Pennsylvania in MW?',\n",
    "    'West Virginia in MW?',\n",
    "    'Montana in MW?',\n",
    "    'Wyoming in MW?',\n",
    "    'Gender',\n",
    "    'Age',\n",
    "    'Household Income',\n",
    "    'Education'\n",
    "]"
   ]
  },
  {
   "cell_type": "code",
   "execution_count": 7,
   "metadata": {},
   "outputs": [],
   "source": [
    "from pyspark.ml import Pipeline\n",
    "from pyspark.ml.feature import OneHotEncoder\n",
    "from pyspark.ml.feature import StandardScaler, VectorAssembler\n",
    "from pyspark.ml.feature import StringIndexer, VectorIndexer\n",
    "from pyspark.ml.classification import RandomForestClassifier"
   ]
  },
  {
   "cell_type": "code",
   "execution_count": 8,
   "metadata": {},
   "outputs": [],
   "source": [
    "from dirty_cat_spark.feature.encoder import SimilarityEncoder\n",
    "\n",
    "\n",
    "encoder_similarity = (SimilarityEncoder()\n",
    "                      .setInputCol(dirty_column)\n",
    "                      .setOutputCol(\"encoded\")\n",
    "                      .setSimilarityType(\"nGram\")\n",
    "                      .setVocabSize(200))\n",
    "\n",
    "string_indexer_dirty = (StringIndexer()\n",
    "                  .setInputCol(dirty_column)\n",
    "                  .setOutputCol(dirty_column + \"_indexed\")\n",
    "                  .setHandleInvalid(\"keep\")) \n",
    "\n",
    "encoder_hot = (OneHotEncoder()\n",
    "           .setInputCol(dirty_column + \"_indexed\")\n",
    "           .setOutputCol(\"encoded\"))"
   ]
  },
  {
   "cell_type": "code",
   "execution_count": 9,
   "metadata": {},
   "outputs": [],
   "source": [
    "string_indexer_clean = [(StringIndexer()\n",
    "                         .setInputCol(clean_column)\n",
    "                         .setOutputCol(clean_column + \"_indexed\")\n",
    "                         .setHandleInvalid(\"keep\")) \n",
    "                        for clean_column in clean_columns]\n",
    "\n",
    "assembler = (VectorAssembler()\n",
    "             .setInputCols([c + \"_indexed\" for c in clean_columns] + [\"encoded\"])\n",
    "             .setOutputCol(\"features\"))\n",
    "\n",
    "vector_indexer = (VectorIndexer()\n",
    "                  .setInputCol(\"features\")\n",
    "                  .setOutputCol(\"featuresIndexed\")\n",
    "                  .setMaxCategories(10)\n",
    "                  .setHandleInvalid(\"skip\"))\n",
    "\n",
    "scaler = (StandardScaler()\n",
    "          .setInputCol(\"featuresIndexed\")\n",
    "          .setOutputCol(\"scaledFeatures\")\n",
    "          .setWithMean(False))\n",
    "\n",
    "\n",
    "indexed_label = StringIndexer(inputCol=target_column, \n",
    "                             outputCol=\"indexedLabel\")\n",
    "\n",
    "classifier = (RandomForestClassifier()\n",
    "              .setFeaturesCol(\"scaledFeatures\")\n",
    "              .setLabelCol(\"indexedLabel\")\n",
    "              .setNumTrees(10)\n",
    "              .setSeed(5))"
   ]
  },
  {
   "cell_type": "code",
   "execution_count": 10,
   "metadata": {},
   "outputs": [],
   "source": [
    "pipeline_similarity = Pipeline(stages=string_indexer_clean + \n",
    "                               [encoder_similarity, assembler, \n",
    "                                vector_indexer, \n",
    "                                scaler, indexed_label, classifier])"
   ]
  },
  {
   "cell_type": "code",
   "execution_count": 11,
   "metadata": {},
   "outputs": [],
   "source": [
    "pipeline_similarity_hot = Pipeline(stages=string_indexer_clean + \n",
    "                               [string_indexer_dirty, encoder_hot, \n",
    "                                assembler, vector_indexer, \n",
    "                                scaler, indexed_label, classifier])"
   ]
  },
  {
   "cell_type": "code",
   "execution_count": null,
   "metadata": {},
   "outputs": [],
   "source": [
    "pipeline_similarity_hot_model = pipeline_similarity_hot.fit(data_train)"
   ]
  },
  {
   "cell_type": "code",
   "execution_count": null,
   "metadata": {},
   "outputs": [],
   "source": [
    "pipeline_similarity_model = pipeline_similarity.fit(data_train)"
   ]
  },
  {
   "cell_type": "code",
   "execution_count": null,
   "metadata": {},
   "outputs": [],
   "source": [
    "res = pipeline_similarity_model.transform(data_test)\n",
    "res_hot = pipeline_similarity_hot_model.transform(data_test)"
   ]
  },
  {
   "cell_type": "code",
   "execution_count": null,
   "metadata": {},
   "outputs": [],
   "source": [
    "res_df = res.select(\"probability\", \"indexedLabel\", \"prediction\").toPandas()\n",
    "res_hot_df = res_hot.select(\"probability\", \"indexedLabel\", \"prediction\").toPandas()"
   ]
  },
  {
   "cell_type": "code",
   "execution_count": null,
   "metadata": {},
   "outputs": [],
   "source": [
    "%matplotlib inline\n",
    "import numpy as np\n",
    "from matplotlib import pyplot as plt"
   ]
  },
  {
   "cell_type": "code",
   "execution_count": null,
   "metadata": {},
   "outputs": [],
   "source": [
    "y_true = np.hstack(res_df.indexedLabel.values)\n",
    "y_pred = res_df.prediction.values\n",
    "\n",
    "accuracy = np.sum(y_pred == y_true) / y_true.shape[0]\n",
    "\n",
    "accuracy"
   ]
  },
  {
   "cell_type": "code",
   "execution_count": null,
   "metadata": {},
   "outputs": [],
   "source": [
    "y_true = np.hstack(res_hot_df.indexedLabel.values)\n",
    "y_hot_pred = res_hot_df.prediction.values\n",
    "\n",
    "accuracy_hot = np.sum(y_hot_pred == y_true) / y_true.shape[0]\n",
    "\n",
    "accuracy_hot"
   ]
  },
  {
   "cell_type": "code",
   "execution_count": null,
   "metadata": {},
   "outputs": [],
   "source": []
  },
  {
   "cell_type": "code",
   "execution_count": null,
   "metadata": {},
   "outputs": [],
   "source": []
  }
 ],
 "metadata": {
  "kernelspec": {
   "display_name": "Python 3",
   "language": "python",
   "name": "python3"
  },
  "language_info": {
   "codemirror_mode": {
    "name": "ipython",
    "version": 3
   },
   "file_extension": ".py",
   "mimetype": "text/x-python",
   "name": "python",
   "nbconvert_exporter": "python",
   "pygments_lexer": "ipython3",
   "version": "3.6.4"
  }
 },
 "nbformat": 4,
 "nbformat_minor": 2
}
